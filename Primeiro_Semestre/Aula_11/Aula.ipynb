{
 "cells": [
  {
   "cell_type": "code",
   "execution_count": 1,
   "metadata": {},
   "outputs": [],
   "source": [
    "import numpy as np"
   ]
  },
  {
   "cell_type": "code",
   "execution_count": null,
   "metadata": {},
   "outputs": [],
   "source": [
    "class Perceptron:\n",
    "    # Construtor da classe\n",
    "    def __init__(self):\n",
    "        self.weights = None\n",
    "        self.bias = None\n",
    "\n",
    "    def train(self, inputs, outputs, learning_rate, epochs):\n",
    "        # Inicializando pesos e bias aleatórios\n",
    "        num_features = inputs.shape[1]\n",
    "        self.weights = np.random.uniform(-1, 1, num_features)\n",
    "        self.bias = np.random.uniform(-1, 1)\n",
    "\n",
    "        # Treinamento do Perceptron\n",
    "        for _ in range(epochs):\n",
    "            for j in range(len(inputs)):\n",
    "                # Calculando a saída com a função sigmoid\n",
    "                linear_output = np.dot(inputs[j], self.weights) + self.bias\n",
    "                sigmoid_output = 1 / (1 + np.exp(-linear_output))\n",
    "\n",
    "                # Atualizando os pesos e o bias\n",
    "                error = outputs[j][0] - sigmoid_output\n",
    "                self.weights = self.weights + learning_rate * error * inputs[j]\n",
    "                self.bias = self.bias + learning_rate * error\n",
    "\n",
    "    def predict(self, x1, x2):\n",
    "        # Calculando a saída da rede\n",
    "        linear_output = np.dot([x1, x2], self.weights) + self.bias\n",
    "        sigmoid_output = 1 / (1 + np.exp(-linear_output))\n",
    "        return 1 if sigmoid_output > 0.5 else 0\n",
    "\n",
    "\n",
    "# Dados de entrada e saída para a operação lógica OR\n",
    "inputs = np.array([[0, 0], [0, 1], [1, 0], [1, 1]])\n",
    "outputs = np.array([[0], [1], [1], [1]])\n",
    "\n",
    "# Criando uma instância do Perceptron e treinando\n",
    "percp = Perceptron()\n",
    "percp.train(inputs, outputs, learning_rate=0.01, epochs=10000)\n",
    "\n",
    "# Testando a previsão\n",
    "for x in inputs:\n",
    "    print(f\"Input: {x}, Prediction: {percp.predict(x[0], x[1])}\")\n"
   ]
  }
 ],
 "metadata": {
  "kernelspec": {
   "display_name": "Python 3",
   "language": "python",
   "name": "python3"
  },
  "language_info": {
   "codemirror_mode": {
    "name": "ipython",
    "version": 3
   },
   "file_extension": ".py",
   "mimetype": "text/x-python",
   "name": "python",
   "nbconvert_exporter": "python",
   "pygments_lexer": "ipython3",
   "version": "3.12.3"
  }
 },
 "nbformat": 4,
 "nbformat_minor": 2
}
